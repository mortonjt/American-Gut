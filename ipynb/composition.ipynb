{
 "cells": [
  {
   "cell_type": "markdown",
   "metadata": {},
   "source": [
    "<ul><li>American Gut Project\n",
    "</li><li>License: BSD\n",
    "</li><li>Last Update: April 2014\n",
    "</li></ul>"
   ]
  },
  {
   "cell_type": "markdown",
   "metadata": {
    "collapsed": true
   },
   "source": [
    "The following libraries will need to be installed\n",
    "</li><li><a href=\"https://www.python.org/download/releases/2.7/\">Python 2.7</a>\n",
    "</li><li><a href=\"http://biom-format.org/index.html\">BIOM 2.0 or later</a>\n",
    "</li><li><a href=\"http://www.numpy.org/\">Numpy 1.5.1</a>\n",
    "</li><li><a href=\"http://www.scipy.org\">SciPy</a>\n",
    "</li><li><a href=\"http://pandas.pydata.org\">pandas</a>\n",
    "</li><li><a href=\"http://statsmodels.sourceforge.net/\">statsmodels</a>\n",
    "</li><li><a href=\"http://scikit-bio.org/\">scikit bio development version</a>\n",
    "</li><li><a href=\"http://matplotlib.org/\">matplotlib</a>\n",
    "</li></ul>"
   ]
  },
  {
   "cell_type": "markdown",
   "metadata": {},
   "source": [
    "Compositional data analysis is a mathematical framework intended to analyze datasets of proportions.  Analyzing datasets of proportions are full of caveats.\n",
    "\n",
    "For instance, consider a simple example where there are three types of bacteria: A, B, and C.\n",
    "Initially, all of the bacteria have the same populations.  So the initial sample proportion is $A=1/3$, $B=1/3$, $C=1/3$.\n",
    "\n",
    "After a period of time, another sample was taken.  This time, the sample proportion was $A=1/2$, $B=1/4$, $C=1/4$.\n",
    "\n",
    "What happened?\n",
    "\n",
    "One possibility was that the population of $A$ doubled while the other populations remained the same.\n",
    "Another possibility was that the population of $B$ and $C$ were halved while the population of $A$ remained constant.\n",
    "Turns out there are an infinite number of possibilities that could explain the difference in proportions between these two samples.  \n",
    "\n",
    "Unfortunately, when it comes to microbiome data, all of the datasets are measures of proportions.  The total bacteria count is unknown and one of the most informative measures is the sample estimate of the bacterial proportions.\n",
    "\n",
    "Compositional data analysis provides an alternative framework that facilities the comparison between samples. This tutorial will illustrate how these analyses can be applied to the American Gut dataset."
   ]
  },
  {
   "cell_type": "code",
   "execution_count": 40,
   "metadata": {
    "collapsed": false
   },
   "outputs": [],
   "source": [
    "import matplotlib\n",
    "import matplotlib.pyplot as plt\n",
    "import pandas as pd\n",
    "import numpy as np\n",
    "import statsmodels.api as sm\n",
    "from biom import load_table\n",
    "from skbio.stats.composition import *\n",
    "from americangut.biplot import make_biplot\n",
    "import matplotlib.pyplot as plt"
   ]
  },
  {
   "cell_type": "markdown",
   "metadata": {},
   "source": [
    "Let's load the biom table and the metadata"
   ]
  },
  {
   "cell_type": "code",
   "execution_count": 4,
   "metadata": {
    "collapsed": false
   },
   "outputs": [
    {
     "data": {
      "text/plain": [
       "22742 x 4827 <class 'biom.table.Table'> with 1891517 nonzero entries (1% dense)"
      ]
     },
     "execution_count": 4,
     "metadata": {},
     "output_type": "execute_result"
    }
   ],
   "source": [
    "table = load_table('../data/AG/AG_100nt.biom')\n",
    "table"
   ]
  },
  {
   "cell_type": "code",
   "execution_count": 5,
   "metadata": {
    "collapsed": true
   },
   "outputs": [],
   "source": [
    "metadata = pd.read_table(\"../data/AG/AG_100nt.txt\", index_col=0, low_memory=False, na_values=['no_data', 'unknown'])"
   ]
  },
  {
   "cell_type": "markdown",
   "metadata": {},
   "source": [
    "Since we are only analyzing fecal samples, let's filter out the non-fecal samples"
   ]
  },
  {
   "cell_type": "code",
   "execution_count": 11,
   "metadata": {
    "collapsed": false
   },
   "outputs": [],
   "source": [
    "metadata = metadata[metadata['BODY_PRODUCT']=='UBERON:feces']"
   ]
  },
  {
   "cell_type": "markdown",
   "metadata": {},
   "source": [
    "We'll want to compare the healthy subset with the entire population.  The healthy subset will be obtained as follows."
   ]
  },
  {
   "cell_type": "code",
   "execution_count": 12,
   "metadata": {
    "collapsed": true
   },
   "outputs": [],
   "source": [
    "# Defines the filtering functions for alpha diversity\n",
    "subset_f = {'AGE': lambda x: 19 < x and not np.isnan(x),          \n",
    "            'DIABETES': lambda x: x == 'I do not have diabetes',\n",
    "            'IBD': lambda x: x == 'I do not have IBD',\n",
    "            'ANTIBIOTIC_SELECT': lambda x: x == 'Not in the last year',\n",
    "            'BMI': lambda x: 18.5 <= x < 30 and not np.isnan(x)}\n",
    "\n",
    "# Determines which samples meet the requirements of the categories\n",
    "new_bin = {}\n",
    "for cat, f in subset_f.iteritems():\n",
    "    new_bin[cat] = metadata[cat].apply(f)\n",
    "\n",
    "# Builds up the new binary dataframe\n",
    "bin_frame = pd.DataFrame(new_bin)\n",
    "\n",
    "# Adds a column to the current dataframe to look at the subset\n",
    "bin_series = pd.DataFrame(new_bin).all(1)\n",
    "\n",
    "# Filters the original mapping file so only samples which satisfy the criteria are included in the new metadata file.\n",
    "healthy_metadata = metadata.groupby(bin_series).get_group(True)"
   ]
  },
  {
   "cell_type": "markdown",
   "metadata": {},
   "source": [
    "Since there are > 20,000 OTUs, we'll want to instead analyze the family level.  This will not only speed up calculations, but will also make the biplot a bit more clear."
   ]
  },
  {
   "cell_type": "code",
   "execution_count": 17,
   "metadata": {
    "collapsed": false
   },
   "outputs": [
    {
     "data": {
      "text/plain": [
       "634 x 3450 <class 'biom.table.Table'> with 160304 nonzero entries (7% dense)"
      ]
     },
     "execution_count": 17,
     "metadata": {},
     "output_type": "execute_result"
    }
   ],
   "source": [
    "family_idx=5\n",
    "collapse_f = lambda id_, md: '; '.join(md['taxonomy'][:family_idx])\n",
    "family_table = table.collapse(collapse_f, axis='observation')\n",
    "family_table"
   ]
  },
  {
   "cell_type": "code",
   "execution_count": 18,
   "metadata": {
    "collapsed": false
   },
   "outputs": [
    {
     "data": {
      "text/plain": [
       "634 x 3450 <class 'biom.table.Table'> with 160304 nonzero entries (7% dense)"
      ]
     },
     "execution_count": 18,
     "metadata": {},
     "output_type": "execute_result"
    }
   ],
   "source": [
    "norm_func = lambda data, id_, md: data / sum(data)\n",
    "genus_table = genus_table.transform(norm_func, axis='sample')\n",
    "genus_table"
   ]
  },
  {
   "cell_type": "markdown",
   "metadata": {},
   "source": [
    "Now we'll are going to start making biplots\n",
    "\n",
    "First, we are going to utilize a singular value decomposition. See page 36 in reference [2] for more details.\n"
   ]
  },
  {
   "cell_type": "code",
   "execution_count": 19,
   "metadata": {
    "collapsed": true
   },
   "outputs": [],
   "source": [
    "mat = genus_table._get_sparse_data().toarray().transpose()\n",
    "mat = multiplicative_replacement(mat)\n",
    "mat = centralize(mat)\n",
    "mat = clr(mat)"
   ]
  },
  {
   "cell_type": "code",
   "execution_count": 20,
   "metadata": {
    "collapsed": true
   },
   "outputs": [],
   "source": [
    "L, K, M = np.linalg.svd(mat)"
   ]
  },
  {
   "cell_type": "code",
   "execution_count": 22,
   "metadata": {
    "collapsed": false
   },
   "outputs": [
    {
     "name": "stdout",
     "output_type": "stream",
     "text": [
      "0.161391 of the variability is explained\n"
     ]
    }
   ],
   "source": [
    "n, _ = L.shape\n",
    "# Now extract only the first 2 eigenvectors\n",
    "_k = K[:2]\n",
    "samp_pca = L[:,:2] * np.sqrt(n-1)\n",
    "feat_pca = np.multiply(M[:2,:],(_k.reshape(2,1) / np.sqrt(n-1))) \n",
    "K[np.isnan(K)]=0\n",
    "print \"%f of the variability is explained\"%(sum(_k**2 )/sum(K**2))"
   ]
  },
  {
   "cell_type": "markdown",
   "metadata": {
    "collapsed": true
   },
   "source": [
    "A cartesian to polar coordination conversion is going to be added to aid with the interpretation"
   ]
  },
  {
   "cell_type": "code",
   "execution_count": 23,
   "metadata": {
    "collapsed": true
   },
   "outputs": [],
   "source": [
    "def cart2polar(x, y):\n",
    "    rho = np.sqrt(x**2 + y**2)\n",
    "    phi = np.degrees(np.arctan2(y, x))\n",
    "    return (rho, phi)"
   ]
  },
  {
   "cell_type": "markdown",
   "metadata": {},
   "source": [
    "Pandas dataframes are going to be used, just to keep our data organized"
   ]
  },
  {
   "cell_type": "code",
   "execution_count": 31,
   "metadata": {
    "collapsed": false
   },
   "outputs": [],
   "source": [
    "samp_plr = cart2polar(np.ravel(samp_pca[:,0]), np.ravel(samp_pca[:,1]))\n",
    "feat_plr = cart2polar(np.ravel(feat_pca[0,:]), np.ravel(feat_pca[1,:]))\n",
    "samp_df = pd.DataFrame({'PCA1':np.ravel(samp_pca[:,0]),\n",
    "                        'PCA2':np.ravel(samp_pca[:,1]),\n",
    "                        'radius':samp_plr[0],\n",
    "                        'degrees':samp_plr[1]},\n",
    "                        index=genus_table.ids(axis='sample'))\n",
    "\n",
    "#Include days variable in samp_df\n",
    "samp_df = pd.merge(samp_df, metadata,\n",
    "                   left_index=True,right_index=True)\n",
    "\n",
    "samp_df = samp_df.sort('degrees')\n",
    "\n",
    "feat_df = pd.DataFrame({'PCA1':np.ravel(feat_pca[0,:]),\n",
    "                        'PCA2':np.ravel(feat_pca[1,:]),\n",
    "                        'radius':feat_plr[0],\n",
    "                        'degrees':feat_plr[1]},\n",
    "                        index = genus_table.ids(axis='observation'))\n",
    "feat_df = feat_df.sort('degrees')"
   ]
  },
  {
   "cell_type": "markdown",
   "metadata": {},
   "source": [
    "Now we're going to construct the biplot"
   ]
  },
  {
   "cell_type": "code",
   "execution_count": 45,
   "metadata": {
    "collapsed": false
   },
   "outputs": [
    {
     "ename": "NameError",
     "evalue": "global name 'plt' is not defined",
     "output_type": "error",
     "traceback": [
      "\u001b[0;31m---------------------------------------------------------------------------\u001b[0m",
      "\u001b[0;31mNameError\u001b[0m                                 Traceback (most recent call last)",
      "\u001b[0;32m<ipython-input-45-f253a4531b7c>\u001b[0m in \u001b[0;36m<module>\u001b[0;34m()\u001b[0m\n\u001b[1;32m     17\u001b[0m                   \u001b[0malpha\u001b[0m\u001b[0;34m=\u001b[0m\u001b[0;36m0.5\u001b[0m\u001b[0;34m,\u001b[0m\u001b[0;34m\u001b[0m\u001b[0m\n\u001b[1;32m     18\u001b[0m                   \u001b[0msample_legend\u001b[0m\u001b[0;34m=\u001b[0m\u001b[0;36m2\u001b[0m\u001b[0;34m,\u001b[0m\u001b[0;34m\u001b[0m\u001b[0m\n\u001b[0;32m---> 19\u001b[0;31m                   otu_legend=1)\n\u001b[0m",
      "\u001b[0;32m/Users/mortonyt/Documents/CUBio/AmericanGut/American-Gut/americangut/biplot.py\u001b[0m in \u001b[0;36mmake_biplot\u001b[0;34m(samp_df, feat_df, eigvals, metavar, alpha, otu_labels, zorder_dict, sample_cmap, otu_cmap, sample_legend, otu_legend)\u001b[0m\n\u001b[1;32m     47\u001b[0m         \u001b[0mscalarMap\u001b[0m \u001b[0;34m=\u001b[0m \u001b[0mcmx\u001b[0m\u001b[0;34m.\u001b[0m\u001b[0mScalarMappable\u001b[0m\u001b[0;34m(\u001b[0m\u001b[0mnorm\u001b[0m\u001b[0;34m=\u001b[0m\u001b[0mcNorm\u001b[0m\u001b[0;34m,\u001b[0m \u001b[0mcmap\u001b[0m\u001b[0;34m=\u001b[0m\u001b[0;34m'seismic'\u001b[0m\u001b[0;34m)\u001b[0m\u001b[0;34m\u001b[0m\u001b[0m\n\u001b[1;32m     48\u001b[0m         ax.scatter(samp_df[\"PCA1\"], samp_df[\"PCA2\"],\n\u001b[0;32m---> 49\u001b[0;31m                    \u001b[0mc\u001b[0m\u001b[0;34m=\u001b[0m\u001b[0mscalarMap\u001b[0m\u001b[0;34m.\u001b[0m\u001b[0mto_rgba\u001b[0m\u001b[0;34m(\u001b[0m\u001b[0msamp_df\u001b[0m\u001b[0;34m[\u001b[0m\u001b[0mmetavar\u001b[0m\u001b[0;34m]\u001b[0m\u001b[0;34m)\u001b[0m\u001b[0;34m,\u001b[0m \u001b[0ms\u001b[0m\u001b[0;34m=\u001b[0m\u001b[0;36m50\u001b[0m\u001b[0;34m,\u001b[0m\u001b[0;34m\u001b[0m\u001b[0m\n\u001b[0m\u001b[1;32m     50\u001b[0m                    \u001b[0malpha\u001b[0m\u001b[0;34m=\u001b[0m\u001b[0malpha\u001b[0m\u001b[0;34m,\u001b[0m \u001b[0mlw\u001b[0m\u001b[0;34m=\u001b[0m\u001b[0;36m0\u001b[0m\u001b[0;34m,\u001b[0m\u001b[0;34m\u001b[0m\u001b[0m\n\u001b[1;32m     51\u001b[0m                    zorder=2)\n",
      "\u001b[0;31mNameError\u001b[0m: global name 'plt' is not defined"
     ]
    }
   ],
   "source": [
    "fig = make_biplot(samp_df,feat_df,K,\"TYPES_OF_PLANTS\",\n",
    "                  sample_cmap = {-21:'#FFFFFF',\n",
    "                                -14:'#FFFFFF',\n",
    "                                 -7:'#FFFFFF',\n",
    "                                  1:'#FFFFFF',\n",
    "                                  8:'#999999',\n",
    "                                 15:'#999999'},\n",
    "                  otu_cmap={'p__Bacteroidetes':'#219F8D',\n",
    "                            'p__Firmicutes':'#D04984',\n",
    "                            'p__Proteobacteria':'#D4D71C',\n",
    "                            'p__Verrucomicrobia':'#6CAD3F',\n",
    "                            'p__Derferribateres':'#CF5635',\n",
    "                            'p__Cyanobacteria':'#FF0000',\n",
    "                            'p__Tenericutes':'#DFAC35',\n",
    "                            'p__Chlamydiae':'#7C4A87',\n",
    "                            'Other':'#1394CA'},\n",
    "                  alpha=0.5,\n",
    "                  sample_legend=2,\n",
    "                  otu_legend=1)"
   ]
  },
  {
   "cell_type": "code",
   "execution_count": null,
   "metadata": {
    "collapsed": true
   },
   "outputs": [],
   "source": []
  }
 ],
 "metadata": {
  "kernelspec": {
   "display_name": "Python 2",
   "language": "python",
   "name": "python2"
  },
  "language_info": {
   "codemirror_mode": {
    "name": "ipython",
    "version": 2
   },
   "file_extension": ".py",
   "mimetype": "text/x-python",
   "name": "python",
   "nbconvert_exporter": "python",
   "pygments_lexer": "ipython2",
   "version": "2.7.5"
  }
 },
 "nbformat": 4,
 "nbformat_minor": 0
}
